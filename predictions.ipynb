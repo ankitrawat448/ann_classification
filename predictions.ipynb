{
 "cells": [
  {
   "cell_type": "code",
   "execution_count": 1,
   "id": "448742a0",
   "metadata": {},
   "outputs": [],
   "source": [
    "import pandas as pd\n",
    "import pickle\n",
    "from sklearn.preprocessing import StandardScaler, LabelEncoder, OneHotEncoder\n",
    "from tensorflow.keras.models import load_model"
   ]
  },
  {
   "cell_type": "code",
   "execution_count": 2,
   "id": "6047917a",
   "metadata": {},
   "outputs": [
    {
     "name": "stderr",
     "output_type": "stream",
     "text": [
      "WARNING:absl:Compiled the loaded model, but the compiled metrics have yet to be built. `model.compile_metrics` will be empty until you train or evaluate the model.\n"
     ]
    },
    {
     "name": "stdout",
     "output_type": "stream",
     "text": [
      "\u001b[1m1/1\u001b[0m \u001b[32m━━━━━━━━━━━━━━━━━━━━\u001b[0m\u001b[37m\u001b[0m \u001b[1m0s\u001b[0m 96ms/step\n"
     ]
    },
    {
     "data": {
      "text/plain": [
       "array([[0.05978799]], dtype=float32)"
      ]
     },
     "execution_count": 2,
     "metadata": {},
     "output_type": "execute_result"
    }
   ],
   "source": [
    "\n",
    "\n",
    "# Load the trained model\n",
    "model = load_model('ann_model.h5')\n",
    "\n",
    "# Load the label encoder for 'Gender'\n",
    "with open('label_encoder_gender.pkl', 'rb') as label_encoder_file:\n",
    "    label_encoder_gender = pickle.load(label_encoder_file)\n",
    "\n",
    "# Load the one-hot encoder for 'Geography'\n",
    "with open('one_hot_encoder_geography.pkl', 'rb') as one_hot_encoder_file:\n",
    "    one_hot_encoder_geography = pickle.load(one_hot_encoder_file)\n",
    "\n",
    "# Load the standard scaler\n",
    "with open('scaler.pkl', 'rb') as scaler_file:\n",
    "    scaler = pickle.load(scaler_file)\n",
    "\n",
    "# Example usage (replace with your actual data)\n",
    "new_data = pd.DataFrame({\n",
    "    'CreditScore': [600],\n",
    "    'Geography': ['France'],\n",
    "    'Gender': ['Male'],\n",
    "    'Age': [40],\n",
    "    'Tenure': [3],\n",
    "    'Balance': [60000],\n",
    "    'NumOfProducts': [2],\n",
    "    'HasCrCard': [1],\n",
    "    'IsActiveMember': [1],\n",
    "    'EstimatedSalary': [50000]\n",
    "})\n",
    "\n",
    "# Preprocess the new data\n",
    "new_data['Gender'] = label_encoder_gender.transform(new_data['Gender'])\n",
    "encoded_geography = one_hot_encoder_geography.transform(new_data[['Geography']])\n",
    "encoded_geography_df = pd.DataFrame(encoded_geography.toarray(),\n",
    "                                     columns=one_hot_encoder_geography.get_feature_names_out(['Geography']))\n",
    "new_data = new_data.drop('Geography', axis=1)\n",
    "new_data = pd.concat([new_data, encoded_geography_df], axis=1)\n",
    "\n",
    "new_data_scaled = scaler.transform(new_data)\n",
    "\n",
    "# Make predictions\n",
    "predictions = model.predict(new_data_scaled)\n",
    "\n",
    "predictions\n"
   ]
  },
  {
   "cell_type": "code",
   "execution_count": 3,
   "id": "f2e7808f",
   "metadata": {},
   "outputs": [
    {
     "data": {
      "text/plain": [
       "np.float32(0.059787992)"
      ]
     },
     "execution_count": 3,
     "metadata": {},
     "output_type": "execute_result"
    }
   ],
   "source": [
    "prediction_proba= predictions[0][0]\n",
    "prediction_proba"
   ]
  },
  {
   "cell_type": "code",
   "execution_count": 4,
   "id": "81eeec43",
   "metadata": {},
   "outputs": [
    {
     "name": "stdout",
     "output_type": "stream",
     "text": [
      "Customer is likely to stay\n"
     ]
    }
   ],
   "source": [
    "if prediction_proba > 0.5:\n",
    "    print(\"Customer is likely to churn\")\n",
    "else:\n",
    "    print(\"Customer is likely to stay\")"
   ]
  },
  {
   "cell_type": "code",
   "execution_count": null,
   "id": "b0c90c2a",
   "metadata": {},
   "outputs": [],
   "source": []
  }
 ],
 "metadata": {
  "kernelspec": {
   "display_name": "venv",
   "language": "python",
   "name": "python3"
  },
  "language_info": {
   "codemirror_mode": {
    "name": "ipython",
    "version": 3
   },
   "file_extension": ".py",
   "mimetype": "text/x-python",
   "name": "python",
   "nbconvert_exporter": "python",
   "pygments_lexer": "ipython3",
   "version": "3.11.9"
  }
 },
 "nbformat": 4,
 "nbformat_minor": 5
}
